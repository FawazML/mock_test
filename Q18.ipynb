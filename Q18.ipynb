{
 "cells": [
  {
   "cell_type": "code",
   "execution_count": 1,
   "id": "2f9b6b64",
   "metadata": {},
   "outputs": [],
   "source": [
    "import logging\n",
    "from time import time"
   ]
  },
  {
   "cell_type": "code",
   "execution_count": 2,
   "id": "219c807d",
   "metadata": {},
   "outputs": [],
   "source": [
    "logging.basicConfig(filename='newfile.log', format='%(asctime)s  %(levelname)s %(message)s', level=logging.DEBUG)\n",
    "\n",
    "def timer(func):\n",
    "    \n",
    "    def wrapper_function(*args, **kwargs):\n",
    "        \n",
    "        try:\n",
    "            t1 = time()\n",
    "            result = func(*args, **kwargs)\n",
    "            t2 = time()\n",
    "            \n",
    "            logging.info(f\"The result is {str(result)}\")\n",
    "            logging.info(f\"Execution time is {(t2-t1):.1f} seconds\")\n",
    "            return result\n",
    "        \n",
    "        except Exception as e:\n",
    "            logging.exception('Error occurred during runtime ' + e)\n",
    "            logging.error('Error in the code')\n",
    "    return wrapper_function"
   ]
  },
  {
   "cell_type": "code",
   "execution_count": 3,
   "id": "58063616",
   "metadata": {},
   "outputs": [],
   "source": [
    "@timer\n",
    "def addition(a=3,b=4):\n",
    "    \n",
    "    return a+b"
   ]
  },
  {
   "cell_type": "code",
   "execution_count": 4,
   "id": "7906a0f0",
   "metadata": {},
   "outputs": [],
   "source": [
    "t = timer(addition)"
   ]
  },
  {
   "cell_type": "code",
   "execution_count": 5,
   "id": "6c7eece3",
   "metadata": {},
   "outputs": [
    {
     "data": {
      "text/plain": [
       "14901"
      ]
     },
     "execution_count": 5,
     "metadata": {},
     "output_type": "execute_result"
    }
   ],
   "source": [
    "t(12345,2556)"
   ]
  },
  {
   "cell_type": "code",
   "execution_count": null,
   "id": "3c4c8949",
   "metadata": {},
   "outputs": [],
   "source": [
    "logging.shutdown()"
   ]
  }
 ],
 "metadata": {
  "kernelspec": {
   "display_name": "Python 3 (ipykernel)",
   "language": "python",
   "name": "python3"
  },
  "language_info": {
   "codemirror_mode": {
    "name": "ipython",
    "version": 3
   },
   "file_extension": ".py",
   "mimetype": "text/x-python",
   "name": "python",
   "nbconvert_exporter": "python",
   "pygments_lexer": "ipython3",
   "version": "3.9.13"
  }
 },
 "nbformat": 4,
 "nbformat_minor": 5
}
