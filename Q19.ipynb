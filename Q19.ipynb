{
 "cells": [
  {
   "cell_type": "code",
   "execution_count": 1,
   "id": "f5adf4af",
   "metadata": {},
   "outputs": [],
   "source": [
    "import logging\n",
    "from typing import List"
   ]
  },
  {
   "cell_type": "code",
   "execution_count": 2,
   "id": "65bc98a4",
   "metadata": {},
   "outputs": [],
   "source": [
    "logging.basicConfig(filename='mean.log', format='%(asctime)s %(levelname)s %(message)s', level=logging.DEBUG)"
   ]
  },
  {
   "cell_type": "code",
   "execution_count": 3,
   "id": "d43ddb91",
   "metadata": {},
   "outputs": [],
   "source": [
    "def meann(list1):\n",
    "    \"\"\"\n",
    "    DOCSTRING: Find the mean of a list of numbers\n",
    "    INPUT: list1(LIST)\n",
    "    OUTPUT: average(float)\n",
    "    \"\"\"\n",
    "    try:\n",
    "        if isinstance(list1, List):\n",
    "            sumof = sum(list1)\n",
    "            countof = len(list1)\n",
    "            average = sumof / countof\n",
    "            concat = \",\".join(str(i) for i in list1)\n",
    "            logging.info(f\"The average for {concat} is {average:.1f}\")\n",
    "    except Exception as e:\n",
    "        logging.exception('Error occurred '+ e)\n",
    "        logging.error('Error not possible')\n",
    "    else:\n",
    "        return average"
   ]
  },
  {
   "cell_type": "code",
   "execution_count": 4,
   "id": "ca8bd708",
   "metadata": {},
   "outputs": [
    {
     "data": {
      "text/plain": [
       "3.5"
      ]
     },
     "execution_count": 4,
     "metadata": {},
     "output_type": "execute_result"
    }
   ],
   "source": [
    "meann(list1=[1,2,3,4,5,6])"
   ]
  },
  {
   "cell_type": "code",
   "execution_count": 5,
   "id": "8eeebb89",
   "metadata": {},
   "outputs": [],
   "source": [
    "logging.shutdown()"
   ]
  },
  {
   "cell_type": "code",
   "execution_count": null,
   "id": "b6a2dfe1",
   "metadata": {},
   "outputs": [],
   "source": []
  }
 ],
 "metadata": {
  "kernelspec": {
   "display_name": "Python 3 (ipykernel)",
   "language": "python",
   "name": "python3"
  },
  "language_info": {
   "codemirror_mode": {
    "name": "ipython",
    "version": 3
   },
   "file_extension": ".py",
   "mimetype": "text/x-python",
   "name": "python",
   "nbconvert_exporter": "python",
   "pygments_lexer": "ipython3",
   "version": "3.9.13"
  }
 },
 "nbformat": 4,
 "nbformat_minor": 5
}
