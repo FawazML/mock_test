{
 "cells": [
  {
   "cell_type": "code",
   "execution_count": 5,
   "id": "ee0aec7b",
   "metadata": {},
   "outputs": [],
   "source": [
    "import logging\n",
    "from scipy import stats\n",
    "from typing import List\n",
    "import pingouin as pg"
   ]
  },
  {
   "cell_type": "code",
   "execution_count": 4,
   "id": "2c853597",
   "metadata": {
    "collapsed": true
   },
   "outputs": [
    {
     "name": "stdout",
     "output_type": "stream",
     "text": [
      "Collecting pingouin\n",
      "  Downloading pingouin-0.5.3-py3-none-any.whl (198 kB)\n",
      "     ------------------------------------- 198.6/198.6 kB 71.3 kB/s eta 0:00:00\n",
      "Requirement already satisfied: numpy>=1.19 in c:\\users\\nn771tn\\anaconda3\\lib\\site-packages (from pingouin) (1.21.5)\n",
      "Requirement already satisfied: scipy>=1.7 in c:\\users\\nn771tn\\anaconda3\\lib\\site-packages (from pingouin) (1.9.1)\n",
      "Requirement already satisfied: pandas>=1.0 in c:\\users\\nn771tn\\anaconda3\\lib\\site-packages (from pingouin) (1.4.4)\n",
      "Requirement already satisfied: matplotlib>=3.0.2 in c:\\users\\nn771tn\\anaconda3\\lib\\site-packages (from pingouin) (3.5.2)\n",
      "Requirement already satisfied: seaborn>=0.11 in c:\\users\\nn771tn\\anaconda3\\lib\\site-packages (from pingouin) (0.11.2)\n",
      "Requirement already satisfied: statsmodels>=0.13 in c:\\users\\nn771tn\\anaconda3\\lib\\site-packages (from pingouin) (0.13.2)\n",
      "Requirement already satisfied: scikit-learn in c:\\users\\nn771tn\\anaconda3\\lib\\site-packages (from pingouin) (1.0.2)\n",
      "Collecting pandas-flavor>=0.2.0 (from pingouin)\n",
      "  Downloading pandas_flavor-0.5.0-py3-none-any.whl (7.1 kB)\n",
      "Collecting outdated (from pingouin)\n",
      "  Downloading outdated-0.2.2-py2.py3-none-any.whl (7.5 kB)\n",
      "Requirement already satisfied: tabulate in c:\\users\\nn771tn\\anaconda3\\lib\\site-packages (from pingouin) (0.8.10)\n",
      "Requirement already satisfied: cycler>=0.10 in c:\\users\\nn771tn\\anaconda3\\lib\\site-packages (from matplotlib>=3.0.2->pingouin) (0.11.0)\n",
      "Requirement already satisfied: fonttools>=4.22.0 in c:\\users\\nn771tn\\anaconda3\\lib\\site-packages (from matplotlib>=3.0.2->pingouin) (4.25.0)\n",
      "Requirement already satisfied: kiwisolver>=1.0.1 in c:\\users\\nn771tn\\anaconda3\\lib\\site-packages (from matplotlib>=3.0.2->pingouin) (1.4.2)\n",
      "Requirement already satisfied: packaging>=20.0 in c:\\users\\nn771tn\\anaconda3\\lib\\site-packages (from matplotlib>=3.0.2->pingouin) (21.3)\n",
      "Requirement already satisfied: pillow>=6.2.0 in c:\\users\\nn771tn\\anaconda3\\lib\\site-packages (from matplotlib>=3.0.2->pingouin) (9.2.0)\n",
      "Requirement already satisfied: pyparsing>=2.2.1 in c:\\users\\nn771tn\\anaconda3\\lib\\site-packages (from matplotlib>=3.0.2->pingouin) (3.0.9)\n",
      "Requirement already satisfied: python-dateutil>=2.7 in c:\\users\\nn771tn\\anaconda3\\lib\\site-packages (from matplotlib>=3.0.2->pingouin) (2.8.2)\n",
      "Requirement already satisfied: pytz>=2020.1 in c:\\users\\nn771tn\\anaconda3\\lib\\site-packages (from pandas>=1.0->pingouin) (2022.1)\n",
      "Requirement already satisfied: xarray in c:\\users\\nn771tn\\anaconda3\\lib\\site-packages (from pandas-flavor>=0.2.0->pingouin) (0.20.1)\n",
      "Collecting lazy-loader>=0.1 (from pandas-flavor>=0.2.0->pingouin)\n",
      "  Downloading lazy_loader-0.3-py3-none-any.whl (9.1 kB)\n",
      "Requirement already satisfied: patsy>=0.5.2 in c:\\users\\nn771tn\\anaconda3\\lib\\site-packages (from statsmodels>=0.13->pingouin) (0.5.2)\n",
      "Requirement already satisfied: setuptools>=44 in c:\\users\\nn771tn\\anaconda3\\lib\\site-packages (from outdated->pingouin) (63.4.1)\n",
      "Collecting littleutils (from outdated->pingouin)\n",
      "  Downloading littleutils-0.2.2.tar.gz (6.6 kB)\n",
      "  Preparing metadata (setup.py): started\n",
      "  Preparing metadata (setup.py): finished with status 'done'\n",
      "Requirement already satisfied: requests in c:\\users\\nn771tn\\anaconda3\\lib\\site-packages (from outdated->pingouin) (2.28.1)\n",
      "Requirement already satisfied: joblib>=0.11 in c:\\users\\nn771tn\\anaconda3\\lib\\site-packages (from scikit-learn->pingouin) (1.1.0)\n",
      "Requirement already satisfied: threadpoolctl>=2.0.0 in c:\\users\\nn771tn\\anaconda3\\lib\\site-packages (from scikit-learn->pingouin) (2.2.0)\n",
      "Requirement already satisfied: six in c:\\users\\nn771tn\\anaconda3\\lib\\site-packages (from patsy>=0.5.2->statsmodels>=0.13->pingouin) (1.16.0)\n",
      "Requirement already satisfied: charset-normalizer<3,>=2 in c:\\users\\nn771tn\\anaconda3\\lib\\site-packages (from requests->outdated->pingouin) (2.0.4)\n",
      "Requirement already satisfied: idna<4,>=2.5 in c:\\users\\nn771tn\\anaconda3\\lib\\site-packages (from requests->outdated->pingouin) (3.3)\n",
      "Requirement already satisfied: urllib3<1.27,>=1.21.1 in c:\\users\\nn771tn\\anaconda3\\lib\\site-packages (from requests->outdated->pingouin) (1.26.11)\n",
      "Requirement already satisfied: certifi>=2017.4.17 in c:\\users\\nn771tn\\anaconda3\\lib\\site-packages (from requests->outdated->pingouin) (2022.9.14)\n",
      "Building wheels for collected packages: littleutils\n",
      "  Building wheel for littleutils (setup.py): started\n",
      "  Building wheel for littleutils (setup.py): finished with status 'done'\n",
      "  Created wheel for littleutils: filename=littleutils-0.2.2-py3-none-any.whl size=7028 sha256=a15d2e8c94586711baa28629bbc03d391b4da6465f2332fb456ed262d96f55b9\n",
      "  Stored in directory: c:\\users\\nn771tn\\appdata\\local\\pip\\cache\\wheels\\04\\bb\\0d\\2d02ec45f29c48d6192476bfb59c5a0e64b605e7212374dd15\n",
      "Successfully built littleutils\n",
      "Installing collected packages: littleutils, lazy-loader, outdated, pandas-flavor, pingouin\n",
      "Successfully installed lazy-loader-0.3 littleutils-0.2.2 outdated-0.2.2 pandas-flavor-0.5.0 pingouin-0.5.3\n"
     ]
    }
   ],
   "source": [
    "!pip install pingouin"
   ]
  },
  {
   "cell_type": "code",
   "execution_count": 2,
   "id": "e83d98b2",
   "metadata": {},
   "outputs": [],
   "source": [
    "logging.basicConfig(filename='stats.log', format='%(asctime)s %(levelname)s %(message)s', level=logging.DEBUG)"
   ]
  },
  {
   "cell_type": "code",
   "execution_count": 11,
   "id": "14289351",
   "metadata": {},
   "outputs": [],
   "source": [
    "def hypothesis_test(sample_1, sample_2):\n",
    "    \"\"\"\n",
    "    DOCSTRING: A two sample t-test is used to test whether or not the means of \n",
    "    two samples from a population are equal\n",
    "    INPUT: PARAMS sample_1(LIST) & sample_2(LIST)\n",
    "    OUTPUT: P_value(float)\n",
    "    \"\"\"\n",
    "    try:\n",
    "        \n",
    "        if isinstance(sample_1, List) and isinstance(sample_2, List):\n",
    "        \n",
    "            t_test, p_value = stats.ttest_ind(sample_1,sample_2)\n",
    "            \n",
    "            logging.info(f\"The p-value is {p_value}\")\n",
    "            \n",
    "            return p_value\n",
    "            \n",
    "    except Exception as e:\n",
    "        logging.exception('Error ocurred '+e)\n",
    "        logging.error('Too bad')"
   ]
  },
  {
   "cell_type": "code",
   "execution_count": 12,
   "id": "8a958a97",
   "metadata": {},
   "outputs": [
    {
     "data": {
      "text/plain": [
       "0.09434977284243756"
      ]
     },
     "execution_count": 12,
     "metadata": {},
     "output_type": "execute_result"
    }
   ],
   "source": [
    "sample1 = [5, 10, 15, 20, 25]\n",
    "sample2 = [10, 20, 30, 40, 50]\n",
    "hypothesis_test(sample1,sample2)"
   ]
  },
  {
   "cell_type": "code",
   "execution_count": null,
   "id": "1fc4a434",
   "metadata": {},
   "outputs": [],
   "source": []
  }
 ],
 "metadata": {
  "kernelspec": {
   "display_name": "Python 3 (ipykernel)",
   "language": "python",
   "name": "python3"
  },
  "language_info": {
   "codemirror_mode": {
    "name": "ipython",
    "version": 3
   },
   "file_extension": ".py",
   "mimetype": "text/x-python",
   "name": "python",
   "nbconvert_exporter": "python",
   "pygments_lexer": "ipython3",
   "version": "3.9.13"
  }
 },
 "nbformat": 4,
 "nbformat_minor": 5
}
